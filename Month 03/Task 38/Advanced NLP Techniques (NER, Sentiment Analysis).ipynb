{
  "nbformat": 4,
  "nbformat_minor": 0,
  "metadata": {
    "colab": {
      "provenance": []
    },
    "kernelspec": {
      "name": "python3",
      "display_name": "Python 3"
    },
    "language_info": {
      "name": "python"
    }
  },
  "cells": [
    {
      "cell_type": "code",
      "source": [
        "import matplotlib.pyplot as plt\n",
        "from nltk import word_tokenize, pos_tag, ne_chunk\n",
        "from nltk.sentiment.vader import SentimentIntensityAnalyzer\n",
        "import nltk\n",
        "nltk.download('maxent_ne_chunker')\n",
        "nltk.download('words')\n",
        "nltk.download('punkt')\n",
        "nltk.download('vader_lexicon')\n",
        "nltk.download('averaged_perceptron_tagger')\n",
        "\n",
        "import spacy\n",
        "from spacy import displacy\n",
        "from textblob import TextBlob\n",
        "from collections import Counter"
      ],
      "metadata": {
        "colab": {
          "base_uri": "https://localhost:8080/"
        },
        "id": "i2aZXERSLeuL",
        "outputId": "659927f2-6a06-45fc-e19c-0f3e2494ef38"
      },
      "execution_count": 18,
      "outputs": [
        {
          "output_type": "stream",
          "name": "stderr",
          "text": [
            "[nltk_data] Downloading package maxent_ne_chunker to\n",
            "[nltk_data]     /root/nltk_data...\n",
            "[nltk_data]   Package maxent_ne_chunker is already up-to-date!\n",
            "[nltk_data] Downloading package words to /root/nltk_data...\n",
            "[nltk_data]   Package words is already up-to-date!\n",
            "[nltk_data] Downloading package punkt to /root/nltk_data...\n",
            "[nltk_data]   Package punkt is already up-to-date!\n",
            "[nltk_data] Downloading package vader_lexicon to /root/nltk_data...\n",
            "[nltk_data]   Package vader_lexicon is already up-to-date!\n",
            "[nltk_data] Downloading package averaged_perceptron_tagger to\n",
            "[nltk_data]     /root/nltk_data...\n",
            "[nltk_data]   Package averaged_perceptron_tagger is already up-to-\n",
            "[nltk_data]       date!\n"
          ]
        }
      ]
    },
    {
      "cell_type": "markdown",
      "source": [
        "1. ### NER\n",
        "   NER (Named Entity Recognization) is a component of natural language processing (NLP) that identifies predefined categories of objects in a body of text."
      ],
      "metadata": {
        "id": "3vSI1EW1K9gB"
      }
    },
    {
      "cell_type": "code",
      "source": [
        "text = \"Barack Obama was born in Hawaii. He was elected president in 2008.\"\n",
        "tokens = word_tokenize(text)\n",
        "pos_tags = pos_tag(tokens)\n",
        "ner_tree = ne_chunk(pos_tags)\n",
        "\n",
        "print(ner_tree)"
      ],
      "metadata": {
        "colab": {
          "base_uri": "https://localhost:8080/"
        },
        "id": "RoGUGTw6JZMo",
        "outputId": "76b37295-06a4-49de-cb6f-4acd80c08e8e"
      },
      "execution_count": 12,
      "outputs": [
        {
          "output_type": "stream",
          "name": "stdout",
          "text": [
            "(S\n",
            "  (PERSON Barack/NNP)\n",
            "  (PERSON Obama/NNP)\n",
            "  was/VBD\n",
            "  born/VBN\n",
            "  in/IN\n",
            "  (GPE Hawaii/NNP)\n",
            "  ./.\n",
            "  He/PRP\n",
            "  was/VBD\n",
            "  elected/VBN\n",
            "  president/NN\n",
            "  in/IN\n",
            "  2008/CD\n",
            "  ./.)\n"
          ]
        }
      ]
    },
    {
      "cell_type": "markdown",
      "source": [
        "2. ### Sentiment Analysis\n",
        "   Sentiment Analysis is a natural language processing (NLP) technique used to determine the emotional tone behind a body of text. It identifies and categorizes the sentiment expressed in the text, typically as positive, negative, or neutral."
      ],
      "metadata": {
        "id": "ol2KT5KJLC45"
      }
    },
    {
      "cell_type": "code",
      "source": [
        "analyzer = SentimentIntensityAnalyzer()\n",
        "text = \"I love this product! It has greatly improved my daily routine.\"\n",
        "sentiment = analyzer.polarity_scores(text)\n",
        "\n",
        "print(sentiment)"
      ],
      "metadata": {
        "colab": {
          "base_uri": "https://localhost:8080/"
        },
        "id": "9q_0JCRWJyaT",
        "outputId": "611318e4-4a44-493c-ef03-eed090ee6133"
      },
      "execution_count": 13,
      "outputs": [
        {
          "output_type": "stream",
          "name": "stdout",
          "text": [
            "{'neg': 0.0, 'neu': 0.504, 'pos': 0.496, 'compound': 0.8353}\n"
          ]
        }
      ]
    },
    {
      "cell_type": "markdown",
      "source": [
        "3. ### Part-of-Speech (POS) Tagging\n",
        "   Part-of-Speech (POS) Tagging is a natural language processing (NLP) task that involves tagging each word in a sentence with its corresponding part of speech, such as noun, verb, or adjective. This helps in understanding the grammatical structure of the text and is useful for various linguistic analyses."
      ],
      "metadata": {
        "id": "yQvoNpk7Lqlo"
      }
    },
    {
      "cell_type": "code",
      "source": [
        "text = \"The quick brown fox jumps over the lazy dog.\"\n",
        "tokens = word_tokenize(text)\n",
        "pos_tags = pos_tag(tokens)\n",
        "\n",
        "# Visualize the POS tags\n",
        "pos_counts = {}\n",
        "for _, pos in pos_tags:\n",
        "    if pos in pos_counts:\n",
        "        pos_counts[pos] += 1\n",
        "    else:\n",
        "        pos_counts[pos] = 1\n",
        "\n",
        "plt.bar(pos_counts.keys(), pos_counts.values())\n",
        "plt.xlabel('POS Tags')\n",
        "plt.ylabel('Frequency')\n",
        "plt.title('POS Tag Distribution')\n",
        "plt.show()"
      ],
      "metadata": {
        "colab": {
          "base_uri": "https://localhost:8080/",
          "height": 472
        },
        "id": "aXTgU05VKexD",
        "outputId": "74977636-434c-47c4-a80f-c802badd1506"
      },
      "execution_count": 14,
      "outputs": [
        {
          "output_type": "display_data",
          "data": {
            "text/plain": [
              "<Figure size 640x480 with 1 Axes>"
            ],
            "image/png": "[encoded data removed]"
          },
          "metadata": {}
        }
      ]
    },
    {
      "cell_type": "markdown",
      "source": [
        "## Using Sapcy"
      ],
      "metadata": {
        "id": "Prmx-AkpNksi"
      }
    },
    {
      "cell_type": "code",
      "source": [
        "# Load SpaCy's pre-trained model\n",
        "nlp = spacy.load('en_core_web_sm')\n",
        "\n",
        "# Example text\n",
        "text = \"Barack Obama was born in Hawaii. He was elected president in 2008.\"\n",
        "\n",
        "# Process the text\n",
        "doc = nlp(text)\n",
        "\n",
        "# Extract and print named entities\n",
        "for ent in doc.ents:\n",
        "    print(ent.text, ent.label_)\n",
        "\n",
        "# Visualization\n",
        "displacy.render(doc, style='ent', jupyter=True)"
      ],
      "metadata": {
        "colab": {
          "base_uri": "https://localhost:8080/",
          "height": 162
        },
        "id": "q5exZwHGNcVK",
        "outputId": "729e33af-0585-4dd8-8bc1-e6198e2d24de"
      },
      "execution_count": 17,
      "outputs": [
        {
          "output_type": "stream",
          "name": "stdout",
          "text": [
            "Barack Obama PERSON\n",
            "Hawaii GPE\n",
            "2008 DATE\n"
          ]
        },
        {
          "output_type": "display_data",
          "data": {
            "text/plain": [
              "<IPython.core.display.HTML object>"
            ],
            "text/html": [
              "<span class=\"tex2jax_ignore\"><div class=\"entities\" style=\"line-height: 2.5; direction: ltr\">\n",
              "<mark class=\"entity\" style=\"background: #aa9cfc; padding: 0.45em 0.6em; margin: 0 0.25em; line-height: 1; border-radius: 0.35em;\">\n",
              "    Barack Obama\n",
              "    <span style=\"font-size: 0.8em; font-weight: bold; line-height: 1; border-radius: 0.35em; vertical-align: middle; margin-left: 0.5rem\">PERSON</span>\n",
              "</mark>\n",
              " was born in \n",
              "<mark class=\"entity\" style=\"background: #feca74; padding: 0.45em 0.6em; margin: 0 0.25em; line-height: 1; border-radius: 0.35em;\">\n",
              "    Hawaii\n",
              "    <span style=\"font-size: 0.8em; font-weight: bold; line-height: 1; border-radius: 0.35em; vertical-align: middle; margin-left: 0.5rem\">GPE</span>\n",
              "</mark>\n",
              ". He was elected president in \n",
              "<mark class=\"entity\" style=\"background: #bfe1d9; padding: 0.45em 0.6em; margin: 0 0.25em; line-height: 1; border-radius: 0.35em;\">\n",
              "    2008\n",
              "    <span style=\"font-size: 0.8em; font-weight: bold; line-height: 1; border-radius: 0.35em; vertical-align: middle; margin-left: 0.5rem\">DATE</span>\n",
              "</mark>\n",
              ".</div></span>"
            ]
          },
          "metadata": {}
        }
      ]
    },
    {
      "cell_type": "code",
      "source": [
        "text = \"I love this product! It's fantastic and works really well.\"\n",
        "\n",
        "# Perform sentiment analysis\n",
        "blob = TextBlob(text)\n",
        "print(f\"Sentiment polarity: {blob.sentiment.polarity}\")  # Range from -1 (negative) to 1 (positive)\n",
        "print(f\"Sentiment subjectivity: {blob.sentiment.subjectivity}\")  # Range from 0 (objective) to 1 (subjective)\n"
      ],
      "metadata": {
        "colab": {
          "base_uri": "https://localhost:8080/"
        },
        "id": "VlTL9lAdNc65",
        "outputId": "53838691-681a-45f9-d04e-b04b0412e0e8"
      },
      "execution_count": 19,
      "outputs": [
        {
          "output_type": "stream",
          "name": "stdout",
          "text": [
            "Sentiment polarity: 0.40833333333333327\n",
            "Sentiment subjectivity: 0.5666666666666667\n"
          ]
        }
      ]
    },
    {
      "cell_type": "code",
      "source": [
        "# Process the text\n",
        "doc = nlp(\"The quick brown fox jumps over the lazy dog.\")\n",
        "\n",
        "# Extract and print POS tags\n",
        "for token in doc:\n",
        "    print(token.text, token.pos_, token.tag_)\n",
        "\n",
        "# Count POS tags\n",
        "pos_counts = Counter([token.pos_ for token in doc])\n",
        "\n",
        "# Plot\n",
        "plt.bar(pos_counts.keys(), pos_counts.values())\n",
        "plt.xlabel('POS Tags')\n",
        "plt.ylabel('Frequency')\n",
        "plt.title('POS Tag Distribution')\n",
        "plt.show()\n"
      ],
      "metadata": {
        "colab": {
          "base_uri": "https://localhost:8080/",
          "height": 657
        },
        "id": "gPXcXiPBNuPL",
        "outputId": "bcdfdcde-e17f-4f86-d6a3-56dd72fd5cf0"
      },
      "execution_count": 21,
      "outputs": [
        {
          "output_type": "stream",
          "name": "stdout",
          "text": [
            "The DET DT\n",
            "quick ADJ JJ\n",
            "brown ADJ JJ\n",
            "fox NOUN NN\n",
            "jumps VERB VBZ\n",
            "over ADP IN\n",
            "the DET DT\n",
            "lazy ADJ JJ\n",
            "dog NOUN NN\n",
            ". PUNCT .\n"
          ]
        },
        {
          "output_type": "display_data",
          "data": {
            "text/plain": [
              "<Figure size 640x480 with 1 Axes>"
            ],
            "image/png": "[encoded data removed]"
          },
          "metadata": {}
        }
      ]
    }
  ]
}